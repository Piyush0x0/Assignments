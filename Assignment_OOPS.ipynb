{
  "nbformat": 4,
  "nbformat_minor": 0,
  "metadata": {
    "colab": {
      "provenance": []
    },
    "kernelspec": {
      "name": "python3",
      "display_name": "Python 3"
    },
    "language_info": {
      "name": "python"
    }
  },
  "cells": [
    {
      "cell_type": "markdown",
      "source": [
        "Q1.What is Object-Oriented Programming (OOP)?\n",
        "\n",
        "Ans - OOP is a programming paradigm that organizes code into objects, which combine data (attributes) and functionality (methods). It emphasizes concepts like inheritance, polymorphism, encapsulation, and abstraction.\n",
        "\n",
        "\n",
        "Q2-What is a class in OOP?\n",
        "\n",
        "A class is a blueprint for creating objects. It defines attributes and methods common to all objects of that type.\n",
        "\n",
        "\n",
        "\n",
        "Q3 - What is an object in OOP?\n",
        "\n",
        "Ans-An object is an instance of a class. It represents a specific entity with data and behavior.\n",
        "\n",
        "\n",
        "Q4-What is the difference between abstraction and encapsulation?\n",
        "\n",
        "Ans- Abstraction hides implementation details, focusing on what an object does. Encapsulation bundles data and methods, restricting direct access to some components for security and integrity.\n",
        "\n",
        "\n",
        "\n",
        "Q5 - What are dunder methods in Python?\n",
        "\n",
        "Dunder (double underscore) methods, like __init__ and __str__, are special methods in Python used to define object behavior\n",
        "\n",
        "Q6-  Explain the concept of inheritance in OOP.\n",
        "\n",
        "Ans - Inheritance allows a class (child) to derive properties and behaviors from another class (parent), enabling code reuse.\n",
        "\n",
        "\n",
        "Q7 -What is polymorphism in OOP?\n",
        "\n",
        "Ans - Polymorphism allows objects of different types to be treated uniformly, such as through method overriding or operator overloading.\n",
        "\n",
        "\n",
        "Q8 -How is encapsulation achieved in Python?\n",
        "\n",
        "Ans - Encapsulation is achieved using private (prefix _ or __) attributes and providing access through methods."
      ],
      "metadata": {
        "id": "lyJQ1l3McSYg"
      }
    },
    {
      "cell_type": "markdown",
      "source": [
        "Q9- What is a constructor in Python?\n",
        "\n",
        "Ans - A constructor is a special method (__init__) called automatically when an object is instantiated to initialize attributes.\n",
        "\n",
        "\n",
        "Q10 -What are class and static methods in Python?\n",
        "\n",
        "Ans - Class methods (@classmethod): Operate on the class, not instance-specific.\n",
        "Static methods (@staticmethod): General utility methods that do not operate on the class or instance.\n",
        "\n",
        "\n",
        "Q11 - What is method overloading in Python?\n",
        "\n",
        "Ans - Method overloading is achieved by defining multiple methods with the same name but different parameters. Python supports it through default or variable arguments.\n",
        "\n",
        "\n",
        "Q12 - What is method overriding in OOP?\n",
        "\n",
        "Ans - Method overriding occurs when a subclass provides a specific implementation of a method already defined in its superclass.\n",
        "\n",
        "\n",
        "Q13 What is a property decorator in Python?\n",
        "\n",
        "Ans - The @property decorator is used to define getter methods, allowing access to private attributes like properties.\n",
        "\n",
        "\n",
        "Q14 - Why is polymorphism important in OOP?\n",
        "\n",
        "Ans - Polymorphism provides flexibility and reusability by allowing the same interface to interact with objects of different classes.\n",
        "\n",
        "\n",
        "Q15 -What is an abstract class in Python?\n",
        "\n",
        "As - An abstract class contains one or more abstract methods (methods with no implementation). It serves as a blueprint for other classes and is defined using the abc module.\n",
        "\n",
        "\n",
        "\n",
        "Q16 - What are the advantages of OOP?\n",
        "\n",
        "Ans - Code reuse, modularity, abstraction, encapsulation, inheritance, and the ability to model real-world entities.\n",
        "\n",
        "\n",
        "\n",
        "Q17 - What is the difference between a class variable and an instance variable?\n",
        "\n",
        "Class variable: Shared across all instances of a class.\n",
        "Instance variable: Unique to each instance of a class.\n",
        "\n",
        "Q18- What is multiple inheritance in Python?\n",
        "\n",
        "Ans - Multiple inheritance allows a class to inherit from more than one parent class, combining their properties and methods.\n",
        "\n",
        "\n",
        "Q19 -Explain the purpose of __str__ and __repr__ methods in Python.\n",
        "\n",
        "As - __str__: Returns a human-readable representation of the object.\n",
        "__repr__: Returns a detailed, developer-oriented representation.\n",
        "\n",
        "\n",
        "Q20 - What is the significance of the super() function in Python?\n",
        "\n",
        "Ans - super() allows a child class to access and call methods from its parent class.\n",
        "\n",
        "\n",
        "Q21 - What is the significance of the __del__ method in Python?\n",
        "\n",
        "Ans - __del__ is a destructor method called when an object is about to be destroyed, used for cleanup tasks."
      ],
      "metadata": {
        "id": "vZq0D5DsdQyN"
      }
    },
    {
      "cell_type": "markdown",
      "source": [
        "Q22 - What is the difference between @staticmethod and @classmethod in Python?\n",
        "\n",
        "Ans - @staticmethod: Does not require class or instance reference; used for utility functions.\n",
        "@classmethod: Operates on the class and requires a cls parameter.\n",
        "\n",
        "\n",
        "Q23 - How does polymorphism work in Python with inheritance?\n",
        "\n",
        "Ans - Through method overriding, where a subclass redefines methods of its parent class to provide specific functionality.\n",
        "\n",
        "\n",
        "Q24 - What is method chaining in Python OOP?\n",
        "\n",
        "Ans - A technique where methods return the instance itself (self) to allow multiple methods to be called in a single statement.\n",
        "\n",
        "\n",
        "Q25- What is the purpose of the __call__ method in Python?\n",
        "\n",
        "Ans - The __call__ method allows an object to be called like a function.\n"
      ],
      "metadata": {
        "id": "Eia9n3IKe3Bd"
      }
    },
    {
      "cell_type": "markdown",
      "source": [
        "# **Practical Questions**"
      ],
      "metadata": {
        "id": "2mHMDzTYfPTD"
      }
    },
    {
      "cell_type": "markdown",
      "source": [
        "Q 1. Create a parent class Animal with a method speak() that prints a generic message. Create a child class Dog\n",
        "that overrides the speak() method to print \"Bark!\""
      ],
      "metadata": {
        "id": "cvtiELO8fTVH"
      }
    },
    {
      "cell_type": "code",
      "execution_count": 1,
      "metadata": {
        "id": "oXLYGgU7blE4"
      },
      "outputs": [],
      "source": [
        "class Animal:\n",
        "  def speak(self):\n",
        "    print(\"This animal speaks\")\n",
        "\n",
        "class Dog(Animal):\n",
        "  def speak(self):\n",
        "    print(\"Bark\")"
      ]
    },
    {
      "cell_type": "code",
      "source": [
        "dog = Dog()\n",
        "dog.speak()"
      ],
      "metadata": {
        "colab": {
          "base_uri": "https://localhost:8080/"
        },
        "id": "vOS727oThYie",
        "outputId": "07660f15-8df0-4e9b-d305-30625d63d115"
      },
      "execution_count": 3,
      "outputs": [
        {
          "output_type": "stream",
          "name": "stdout",
          "text": [
            "Bark\n"
          ]
        }
      ]
    },
    {
      "cell_type": "markdown",
      "source": [
        "Q2 - 2. Write a program to create an abstract class Shape with a method area(). Derive classes Circle and Rectangle\n",
        "from it and implement the area() method in both."
      ],
      "metadata": {
        "id": "ac9kxARZdPBv"
      }
    },
    {
      "cell_type": "code",
      "source": [
        "from abc import ABC, abstractmethod\n",
        "\n",
        "class Shape(ABC):\n",
        "    @abstractmethod\n",
        "    def area(self):\n",
        "        pass\n",
        "\n",
        "class Circle(Shape):\n",
        "    def __init__(self, radius):\n",
        "        self.radius = radius\n",
        "\n",
        "    def area(self):\n",
        "        return 3.14 * self.radius ** 2\n",
        "\n",
        "class Rectangle(Shape):\n",
        "    def __init__(self, length, width):\n",
        "        self.length = length\n",
        "        self.width = width\n",
        "\n",
        "    def area(self):\n",
        "        return self.length * self.width"
      ],
      "metadata": {
        "id": "wNnqRLS5iP5_"
      },
      "execution_count": 5,
      "outputs": []
    },
    {
      "cell_type": "code",
      "source": [
        "circle = Circle(5)\n",
        "print(circle.area())  # Output: 78.5\n",
        "\n",
        "rectangle = Rectangle(4, 5)\n",
        "print(rectangle.area())  # Output: 20"
      ],
      "metadata": {
        "colab": {
          "base_uri": "https://localhost:8080/"
        },
        "id": "VNhP-8IYinxW",
        "outputId": "6e87abfa-aef4-4263-88bb-c549336a63e9"
      },
      "execution_count": 6,
      "outputs": [
        {
          "output_type": "stream",
          "name": "stdout",
          "text": [
            "78.5\n",
            "20\n"
          ]
        }
      ]
    },
    {
      "cell_type": "markdown",
      "source": [
        "Q3 - Implement a multi-level inheritance scenario where a class Vehicle has an attribute type. Derive a class Car\n",
        "and further derive a class ElectricCar that adds a battery attribute."
      ],
      "metadata": {
        "id": "ghuH-IYJi-aO"
      }
    },
    {
      "cell_type": "code",
      "source": [
        "class Vehicle:\n",
        "    def __init__(self, type):\n",
        "        self.type = type\n",
        "\n",
        "class Car(Vehicle):\n",
        "    def __init__(self, type, model):\n",
        "        super().__init__(type)\n",
        "        self.model = model\n",
        "\n",
        "class ElectricCar(Car):\n",
        "    def __init__(self, type, model, battery):\n",
        "        super().__init__(type, model)\n",
        "        self.battery = battery\n",
        "\n",
        "e_car = ElectricCar(\"Electric\", \"Tesla Model 3\", \"75 kWh\")\n",
        "print(e_car.type, e_car.model, e_car.battery)  # Output: Electric Tesla Model 3 75 kWh\n"
      ],
      "metadata": {
        "colab": {
          "base_uri": "https://localhost:8080/"
        },
        "id": "-tYRlZ4xiuSn",
        "outputId": "59327330-c080-4a09-9298-dc45fd37f703"
      },
      "execution_count": 7,
      "outputs": [
        {
          "output_type": "stream",
          "name": "stdout",
          "text": [
            "Electric Tesla Model 3 75 kWh\n"
          ]
        }
      ]
    },
    {
      "cell_type": "markdown",
      "source": [
        "Q5. Write a program to demonstrate encapsulation by creating a class BankAccount with private attributes\n",
        "balance and methods to deposit, withdraw, and check balance."
      ],
      "metadata": {
        "id": "oMW3y-ByjUg4"
      }
    },
    {
      "cell_type": "code",
      "source": [
        "class BankAccount:\n",
        "    def __init__(self):\n",
        "        self.__balance = 0\n",
        "\n",
        "    def deposit(self, amount):\n",
        "        if amount > 0:\n",
        "            self.__balance += amount\n",
        "\n",
        "    def withdraw(self, amount):\n",
        "        if 0 < amount <= self.__balance:\n",
        "            self.__balance -= amount\n",
        "\n",
        "    def check_balance(self):\n",
        "        return self.__balance\n",
        "\n",
        "account = BankAccount()\n",
        "account.deposit(1000)\n",
        "account.withdraw(500)\n",
        "print(account.check_balance())  # Output: 500\n"
      ],
      "metadata": {
        "colab": {
          "base_uri": "https://localhost:8080/"
        },
        "id": "6xmg_jBTjPiG",
        "outputId": "32a83c4c-196e-4b1f-988f-9fb99e4a9692"
      },
      "execution_count": 8,
      "outputs": [
        {
          "output_type": "stream",
          "name": "stdout",
          "text": [
            "500\n"
          ]
        }
      ]
    },
    {
      "cell_type": "markdown",
      "source": [
        "Q6. Demonstrate runtime polymorphism using a method play() in a base class Instrument. Derive classes Guitar\n",
        "and Piano that implement their own version of play()."
      ],
      "metadata": {
        "id": "t2djx-4rkZb1"
      }
    },
    {
      "cell_type": "code",
      "source": [
        "class Instrument:\n",
        "    def play(self):\n",
        "        print(\"Playing an instrument.\")\n",
        "\n",
        "class Guitar(Instrument):\n",
        "    def play(self):\n",
        "        print(\"Playing the guitar.\")\n",
        "\n",
        "class Piano(Instrument):\n",
        "    def play(self):\n",
        "        print(\"Playing the piano.\")\n",
        "\n",
        "guitar = Guitar()\n",
        "piano = Piano()\n",
        "\n",
        "guitar.play()  # Output: Playing the guitar.\n",
        "piano.play()   # Output: Playing the piano.\n"
      ],
      "metadata": {
        "id": "skJkmFmCjr-X"
      },
      "execution_count": null,
      "outputs": []
    },
    {
      "cell_type": "markdown",
      "source": [
        "Q7. Create a class MathOperations with a class method add_numbers() to add two numbers and a static\n",
        "method subtract_numbers() to subtract two numbers."
      ],
      "metadata": {
        "id": "khiKwooHkpVp"
      }
    },
    {
      "cell_type": "code",
      "source": [
        "class MathOperations:\n",
        "    @classmethod\n",
        "    def add_numbers(cls, a, b):\n",
        "        return a + b\n",
        "\n",
        "    @staticmethod\n",
        "    def subtract_numbers(a, b):\n",
        "        return a - b\n",
        "\n",
        "print(MathOperations.add_numbers(5, 10))  # Output: 15\n",
        "print(MathOperations.subtract_numbers(10, 5))  # Output: 5\n"
      ],
      "metadata": {
        "id": "UJz0YCO6kmXZ"
      },
      "execution_count": null,
      "outputs": []
    },
    {
      "cell_type": "markdown",
      "source": [
        "Q8. Implement a class Person with a class method to count the total number of persons created."
      ],
      "metadata": {
        "id": "jI7d09pElKmW"
      }
    },
    {
      "cell_type": "code",
      "source": [
        "class Person:\n",
        "    count = 0\n",
        "\n",
        "    def __init__(self, name):\n",
        "        self.name = name\n",
        "        Person.count += 1\n",
        "\n",
        "    @classmethod\n",
        "    def get_count(cls):\n",
        "        return cls.count\n",
        "\n",
        "p1 = Person(\"Ravi\")\n",
        "p2 = Person(\"Aman\")\n",
        "print(Person.get_count())  # Output: 2\n"
      ],
      "metadata": {
        "colab": {
          "base_uri": "https://localhost:8080/"
        },
        "id": "BsG5ch_olPa6",
        "outputId": "a13c2760-77d4-42ca-fadd-1ed5a76f5014"
      },
      "execution_count": 10,
      "outputs": [
        {
          "output_type": "stream",
          "name": "stdout",
          "text": [
            "2\n"
          ]
        }
      ]
    },
    {
      "cell_type": "markdown",
      "source": [
        "Q9. Write a class Fraction with attributes numerator and denominator. Override the str method to display the\n",
        "fraction as \"numerator/denominator\"."
      ],
      "metadata": {
        "id": "faKan_0klYGG"
      }
    },
    {
      "cell_type": "code",
      "source": [
        "class Fraction:\n",
        "    def __init__(self, numerator, denominator):\n",
        "        self.numerator = numerator\n",
        "        self.denominator = denominator\n",
        "\n",
        "    def __str__(self):\n",
        "        return f\"{self.numerator}/{self.denominator}\"\n",
        "\n",
        "fraction = Fraction(3, 4)\n",
        "print(fraction)  # Output: 3/4\n"
      ],
      "metadata": {
        "id": "PN3CI-mclgWt"
      },
      "execution_count": null,
      "outputs": []
    },
    {
      "cell_type": "markdown",
      "source": [
        "Q10. Demonstrate operator overloading by creating a class Vector and overriding the add method to add two\n",
        "vectors."
      ],
      "metadata": {
        "id": "QoeR6OMplvb5"
      }
    },
    {
      "cell_type": "code",
      "source": [
        "class Vector:\n",
        "    def __init__(self, x, y):\n",
        "        self.x = x\n",
        "        self.y = y\n",
        "\n",
        "    def __add__(self, other):\n",
        "        return Vector(self.x + other.x, self.y + other.y)\n",
        "\n",
        "    def __str__(self):\n",
        "        return f\"Vector({self.x}, {self.y})\"\n",
        "\n",
        "v1 = Vector(1, 2)\n",
        "v2 = Vector(3, 4)\n",
        "v3 = v1 + v2\n",
        "print(v3)  # Output: Vector(4, 6)\n"
      ],
      "metadata": {
        "id": "OkPo1d1nlWfw"
      },
      "execution_count": null,
      "outputs": []
    },
    {
      "cell_type": "markdown",
      "source": [
        "Q11. Create a class Person with attributes name and age. Add a method greet() that prints \"Hello, my name is\n",
        "{name} and I am {age} years old.\""
      ],
      "metadata": {
        "id": "6kdxgDHGl9E2"
      }
    },
    {
      "cell_type": "code",
      "source": [
        "class Person:\n",
        "    def __init__(self, name, age):\n",
        "        self.name = name\n",
        "        self.age = age\n",
        "\n",
        "    def greet(self):\n",
        "        print(f\"Hello, my name is {self.name} and I am {self.age} years old.\")\n",
        "\n",
        "p = Person(\"John\", 30)\n",
        "p.greet()  # Output: Hello, my name is John and I am 30 years old.\n"
      ],
      "metadata": {
        "id": "CGD9sVG3mViM"
      },
      "execution_count": null,
      "outputs": []
    },
    {
      "cell_type": "markdown",
      "source": [
        "Q12. Implement a class Student with attributes name and grades. Create a method average_grade() to compute\n",
        "the average of the grades."
      ],
      "metadata": {
        "id": "aC052azmmdEr"
      }
    },
    {
      "cell_type": "code",
      "source": [
        "class Student:\n",
        "    def __init__(self, name, grades):\n",
        "        self.name = name\n",
        "        self.grades = grades\n",
        "\n",
        "    def average_grade(self):\n",
        "        return sum(self.grades) / len(self.grades)\n",
        "\n",
        "student = Student(\"Alice\", [85, 90, 78])\n",
        "print(student.average_grade())  # Output: 84.33\n"
      ],
      "metadata": {
        "id": "z0C3SAc-mjY2"
      },
      "execution_count": null,
      "outputs": []
    },
    {
      "cell_type": "markdown",
      "source": [
        "Q13. Create a class Rectangle with methods set_dimensions() to set the dimensions and area() to calculate the\n",
        "area."
      ],
      "metadata": {
        "id": "zKoVMaSgo9D_"
      }
    },
    {
      "cell_type": "code",
      "source": [
        "class Rectangle:\n",
        "    def __init__(self):\n",
        "        self.length = 0\n",
        "        self.width = 0\n",
        "\n",
        "    def set_dimensions(self, length, width):\n",
        "        self.length = length\n",
        "        self.width = width\n",
        "\n",
        "    def area(self):\n",
        "        return self.length * self.width\n",
        "\n",
        "rect = Rectangle()\n",
        "rect.set_dimensions(4, 5)\n",
        "print(rect.area())  # Output: 20\n"
      ],
      "metadata": {
        "id": "8UqPUg6Po-UP"
      },
      "execution_count": null,
      "outputs": []
    },
    {
      "cell_type": "markdown",
      "source": [
        "Q14. Create a class Employee with a method calculate_salary() that computes the salary based on hours worked\n",
        "and hourly rate. Create a derived class Manager that adds a bonus to the salary"
      ],
      "metadata": {
        "id": "Qv6UfB5FpBAY"
      }
    },
    {
      "cell_type": "code",
      "source": [
        "class Employee:\n",
        "    def __init__(self, hourly_rate):\n",
        "        self.hourly_rate = hourly_rate\n",
        "\n",
        "    def calculate_salary(self, hours_worked):\n",
        "        return self.hourly_rate * hours_worked\n",
        "\n",
        "class Manager(Employee):\n",
        "    def __init__(self, hourly_rate, bonus):\n",
        "        super().__init__(hourly_rate)\n",
        "        self.bonus = bonus\n",
        "\n",
        "    def calculate_salary(self, hours_worked):\n",
        "        return super().calculate_salary(hours_worked) + self.bonus\n",
        "\n",
        "manager = Manager(50, 1000)\n",
        "print(manager.calculate_salary(40))  # Output: 3000\n"
      ],
      "metadata": {
        "id": "1axZSB4_pD-F"
      },
      "execution_count": null,
      "outputs": []
    },
    {
      "cell_type": "markdown",
      "source": [
        "Q15. Create a class Product with attributes name, price, and quantity. Implement a method total_price() that\n",
        "calculates the total price of the product."
      ],
      "metadata": {
        "id": "U2hdVIQ7pXhx"
      }
    },
    {
      "cell_type": "code",
      "source": [
        "class Product:\n",
        "    def __init__(self, name, price, quantity):\n",
        "        self.name = name\n",
        "        self.price = price\n",
        "        self.quantity = quantity\n",
        "\n",
        "    def total_price(self):\n",
        "        return self.price * self.quantity\n",
        "\n",
        "product = Product(\"Laptop\", 1000, 2)\n",
        "print(product.total_price())  # Output: 2000\n"
      ],
      "metadata": {
        "id": "HB6BhSrLpXLb"
      },
      "execution_count": null,
      "outputs": []
    },
    {
      "cell_type": "markdown",
      "source": [
        "Q16. Create a class Animal with an abstract method sound(). Create two derived classes Cow and Sheep that\n",
        "implement the sound() method."
      ],
      "metadata": {
        "id": "m08yYddNpttn"
      }
    },
    {
      "cell_type": "code",
      "source": [
        "from abc import ABC, abstractmethod\n",
        "\n",
        "class Animal(ABC):\n",
        "    @abstractmethod\n",
        "    def sound(self):\n",
        "        pass\n",
        "\n",
        "class Cow(Animal):\n",
        "    def sound(self):\n",
        "        return \"Moo\"\n",
        "\n",
        "class Sheep(Animal):\n",
        "    def sound(self):\n",
        "        return \"Baa\"\n",
        "\n",
        "cow = Cow()\n",
        "sheep = Sheep()\n",
        "print(cow.sound())   # Output: Moo\n",
        "print(sheep.sound())  # Output: Baa\n"
      ],
      "metadata": {
        "id": "v9oH1tTNpxco"
      },
      "execution_count": null,
      "outputs": []
    },
    {
      "cell_type": "markdown",
      "source": [
        "Q17. Create a class Book with attributes title, author, and year_published. Add a method get_book_info() that\n",
        "returns a formatted string with the book's details."
      ],
      "metadata": {
        "id": "yhpB_dBUp0hl"
      }
    },
    {
      "cell_type": "code",
      "source": [
        "class Book:\n",
        "    def __init__(self, title, author, year_published):\n",
        "        self.title = title\n",
        "        self.author = author\n",
        "        self.year_published = year_published\n",
        "\n",
        "    def get_book_info(self):\n",
        "        return f\"'{self.title}' by {self.author}, published in {self.year_published}.\"\n",
        "\n",
        "book = Book(\"1984\", \"George Orwell\", 1949)\n",
        "print(book.get_book_info())  # Output: '1984' by George Orwell, published in 1949.\n"
      ],
      "metadata": {
        "id": "gsMNaK4wp57k"
      },
      "execution_count": null,
      "outputs": []
    },
    {
      "cell_type": "markdown",
      "source": [
        "Q18. Create a class House with attributes address and price. Create a derived class Mansion that adds an\n",
        "attribute number_of_rooms."
      ],
      "metadata": {
        "id": "8AWSdr-UqFj8"
      }
    },
    {
      "cell_type": "code",
      "source": [
        "class House:\n",
        "    def __init__(self, address, price):\n",
        "        self.address = address\n",
        "        self.price = price\n",
        "\n",
        "class Mansion(House):\n",
        "    def __init__(self, address, price, number_of_rooms):\n",
        "        super().__init__(address, price)\n",
        "        self.number_of_rooms = number_of_rooms\n",
        "\n",
        "mansion = Mansion(\"123 Luxury Lane\", 2000000, 10)\n",
        "print(mansion.address, mansion.price, mansion.number_of_rooms)\n",
        "# Output: 123 Luxury Lane 2000000 10\n"
      ],
      "metadata": {
        "id": "9Oyi9X-vqJ91"
      },
      "execution_count": null,
      "outputs": []
    }
  ]
}