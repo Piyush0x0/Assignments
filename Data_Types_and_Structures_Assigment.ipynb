{
  "nbformat": 4,
  "nbformat_minor": 0,
  "metadata": {
    "colab": {
      "provenance": []
    },
    "kernelspec": {
      "name": "python3",
      "display_name": "Python 3"
    },
    "language_info": {
      "name": "python"
    }
  },
  "cells": [
    {
      "cell_type": "markdown",
      "source": [
        "# **Data Types and Structures**"
      ],
      "metadata": {
        "id": "QMBSOKdw8ZZM"
      }
    },
    {
      "cell_type": "markdown",
      "source": [
        "Q1 - What are data structures, and why are they important?\n",
        "\n",
        "Ans - Data structures are organized ways to store and manipulate data efficiently. They are crucial because they allow programmers to perform operations like searching, inserting, and deleting data efficiently, depending on the problem requirements."
      ],
      "metadata": {
        "id": "p8lOLrl88dS1"
      }
    },
    {
      "cell_type": "markdown",
      "source": [
        "Q2 - Explain the difference between mutable and immutable data types with examples.\n",
        "\n",
        "Ans - Mutable: Objects whose state can be changed after creation. E.g., Lists: l = [1, 2, 3] (we can modify l).\n",
        "\n",
        "Immutable: Objects whose state cannot be changed after creation. E.g., Tuples: t = (1, 2, 3) (elements cannot be changed)."
      ],
      "metadata": {
        "id": "Yj5XqYWn8rq1"
      }
    },
    {
      "cell_type": "markdown",
      "source": [
        "Q3 - What are the main differences between lists and tuples in Python?\n",
        "\n",
        "Ans - Lists are mutable, while tuples are immutable once defined and cannot be edited.\n",
        "Lists have dynamic memory usage, while tuples are faster and use less memory."
      ],
      "metadata": {
        "id": "k-NO6n8z82B1"
      }
    },
    {
      "cell_type": "markdown",
      "source": [
        "Q4- Describe how dictionaries store data.\n",
        "\n",
        "Ans - Dictionaries store data in key-value pairs using a hashing mechanism to map keys to values.\n"
      ],
      "metadata": {
        "id": "tuxLbMuY9abe"
      }
    },
    {
      "cell_type": "markdown",
      "source": [
        "Q5- Why might you use a set instead of a list in Python?\n",
        "\n",
        "Ans - Sets are used for uniqueness because they automatically remove duplicate values and provide faster membership checks."
      ],
      "metadata": {
        "id": "ZgJQiauP9rkd"
      }
    },
    {
      "cell_type": "markdown",
      "source": [
        "Q6- What is a string in Python, and how is it different from a list?\n",
        "\n",
        "Ans- Strings are immutable sequences of characters, while lists are mutable and can contain various data types."
      ],
      "metadata": {
        "id": "BuZ0hevR99Wt"
      }
    },
    {
      "cell_type": "markdown",
      "source": [
        "Q7- How do tuples ensure data integrity in Python?\n",
        "\n",
        "Ans- Tuples are immutable, so once created, their values cannot be altered, ensuring the integrity of data."
      ],
      "metadata": {
        "id": "cxiDg-75-uAm"
      }
    },
    {
      "cell_type": "markdown",
      "source": [
        "Q8-What is a hash table, and how does it relate to dictionaries in Python?\n",
        "\n",
        "Ans- A hash table is a data structure that maps keys to values using a hashing function. In Python, dictionaries are implemented using hash tables."
      ],
      "metadata": {
        "id": "WAwtoDNe-0uP"
      }
    },
    {
      "cell_type": "markdown",
      "source": [
        "Q9- Can lists contain different data types in Python?\n",
        "\n",
        "Ans- Yes, lists can hold multiple data types,\n",
        "e.g., my_list = [1, 'apple', 3.14]."
      ],
      "metadata": {
        "id": "a7ImX72U-7om"
      }
    },
    {
      "cell_type": "markdown",
      "source": [
        "Q10- Explain why strings are immutable in Python.\n",
        "\n",
        "Ans- Strings are immutable for performance optimization, memory efficiency, and security purposes."
      ],
      "metadata": {
        "id": "H3wGb0K4_ECt"
      }
    },
    {
      "cell_type": "markdown",
      "source": [
        "Q11-What advantages do dictionaries offer over lists for certain tasks?\n",
        "\n",
        "Ans- Dictionaries have key- value pairs which allow fast key-based access, which is more efficient than searching through lists."
      ],
      "metadata": {
        "id": "mmvLO81bASiW"
      }
    },
    {
      "cell_type": "markdown",
      "source": [
        "Q12- Describe a scenario where using a tuple would be preferable over a list.\n",
        "\n",
        "Ans-When data integrity is critical, such as representing fixed coordinates (x, y) or constant configurations."
      ],
      "metadata": {
        "id": "qfGSPZ4BAjD-"
      }
    },
    {
      "cell_type": "markdown",
      "source": [
        "Q13- How do sets handle duplicate values in Python?\n",
        "\n",
        "Ans- Sets automatically remove duplicate values, ensuring only unique elements are stored."
      ],
      "metadata": {
        "id": "0z2a4CKFDBWI"
      }
    },
    {
      "cell_type": "markdown",
      "source": [
        "Q14- How do sets handle duplicate values in Python?\n",
        "\n",
        "Ans- Sets automatically remove duplicate values, ensuring only unique elements are stored."
      ],
      "metadata": {
        "id": "Be8XnB_-Surc"
      }
    },
    {
      "cell_type": "markdown",
      "source": [
        "Q15- Can you modify the elements of a tuple? Explain why or why not.\n",
        "\n",
        "Ans- No, tuples are immutable, so their elements cannot be changed after creation."
      ],
      "metadata": {
        "id": "0Jn-77o6TPeM"
      }
    },
    {
      "cell_type": "markdown",
      "source": [
        "Q16- What is a nested dictionary, and give an example of its use case.\n",
        "\n",
        "Ans- A dictionary containing other dictionaries."
      ],
      "metadata": {
        "id": "aYkYJYYmTSjc"
      }
    },
    {
      "cell_type": "code",
      "source": [
        "data = {\"student1\": {\"name\": \"Alice\", \"age\": 20}, \"student2\": {\"name\": \"Bob\", \"age\": 22}}\n"
      ],
      "metadata": {
        "id": "duMEL2YvThm0"
      },
      "execution_count": null,
      "outputs": []
    },
    {
      "cell_type": "markdown",
      "source": [
        "Q17 - Describe the time complexity of accessing elements in a dictionary.\n",
        "\n",
        "Ans- Accessing elements in a dictionary has an average time complexity of O(1) due to hashing."
      ],
      "metadata": {
        "id": "Jw8Wzu31Ts4V"
      }
    },
    {
      "cell_type": "markdown",
      "source": [
        "Q18- In what situations are lists preferred over dictionaries?\n",
        "\n",
        "As- When maintaining order or when the data does not need to be key-value pairs."
      ],
      "metadata": {
        "id": "USmkqVLOUB3U"
      }
    },
    {
      "cell_type": "markdown",
      "source": [
        "Q19- Why are dictionaries considered unordered, and how does that affect data retrieval?\n",
        "\n",
        "Ans- Dictionaries use hashing, which does not preserve order. Data retrieval relies on keys, not position."
      ],
      "metadata": {
        "id": "3z8nFu-1UK1U"
      }
    },
    {
      "cell_type": "markdown",
      "source": [
        "Q20 - Explain the difference between a list and a dictionary in terms of data retrieval.\n",
        "\n",
        "Ans- Lists use indexing (positions) for retrieval, while dictionaries use keys."
      ],
      "metadata": {
        "id": "r9u1URzfUS_c"
      }
    },
    {
      "cell_type": "markdown",
      "source": [
        "# **Practical Questions**"
      ],
      "metadata": {
        "id": "NtW8tDCnUfu0"
      }
    },
    {
      "cell_type": "markdown",
      "source": [
        "Q1 -Create a string with your name and print it."
      ],
      "metadata": {
        "id": "hlNCH0NnUl4V"
      }
    },
    {
      "cell_type": "code",
      "source": [
        "name = \"Piyush\"\n",
        "print(name)"
      ],
      "metadata": {
        "colab": {
          "base_uri": "https://localhost:8080/"
        },
        "id": "uwVurCV6UuWE",
        "outputId": "24c997c4-bf52-4c1a-db56-246adb699386"
      },
      "execution_count": 1,
      "outputs": [
        {
          "output_type": "stream",
          "name": "stdout",
          "text": [
            "Piyush\n"
          ]
        }
      ]
    },
    {
      "cell_type": "markdown",
      "source": [
        "Q2 - Find the length of the string \"Hello World\"."
      ],
      "metadata": {
        "id": "LwKtMJ_VU5_8"
      }
    },
    {
      "cell_type": "code",
      "source": [
        "a=\"Hello World\"\n",
        "len(a)"
      ],
      "metadata": {
        "colab": {
          "base_uri": "https://localhost:8080/"
        },
        "id": "G_Km7kNzU-fV",
        "outputId": "4b0a6c71-3852-4d1b-d751-d60cf1d2ed85"
      },
      "execution_count": 2,
      "outputs": [
        {
          "output_type": "execute_result",
          "data": {
            "text/plain": [
              "11"
            ]
          },
          "metadata": {},
          "execution_count": 2
        }
      ]
    },
    {
      "cell_type": "markdown",
      "source": [
        "Q3- Slice the first 3 characters from the string \"Python Programming\"."
      ],
      "metadata": {
        "id": "ZbQSdCplWTDN"
      }
    },
    {
      "cell_type": "code",
      "source": [
        "str = \"Python Programming\"\n",
        "print(str[0:3])"
      ],
      "metadata": {
        "colab": {
          "base_uri": "https://localhost:8080/"
        },
        "id": "k55T3XXuVTR9",
        "outputId": "c9eede44-cfdf-439c-b23f-140c122fd82f"
      },
      "execution_count": 3,
      "outputs": [
        {
          "output_type": "stream",
          "name": "stdout",
          "text": [
            "Pyt\n"
          ]
        }
      ]
    },
    {
      "cell_type": "markdown",
      "source": [
        "Q4 - Convert the string \"hello\" to uppercase."
      ],
      "metadata": {
        "id": "6froiWWtWMkl"
      }
    },
    {
      "cell_type": "code",
      "source": [
        "a=\"hello\"\n",
        "print(a.upper())"
      ],
      "metadata": {
        "colab": {
          "base_uri": "https://localhost:8080/"
        },
        "id": "DrSQsDZ7WXX9",
        "outputId": "ba472740-6a6c-4010-8e4a-672516c37c08"
      },
      "execution_count": 5,
      "outputs": [
        {
          "output_type": "stream",
          "name": "stdout",
          "text": [
            "HELLO\n"
          ]
        }
      ]
    },
    {
      "cell_type": "markdown",
      "source": [
        "Q5 - Replace the word \"apple\" with \"orange\" in the string \"I like apple\"."
      ],
      "metadata": {
        "id": "2R0DcAo5XBdf"
      }
    },
    {
      "cell_type": "code",
      "source": [
        "a = \"I like apple\"\n",
        "print(a.replace(\"apple\", \"orange\"))"
      ],
      "metadata": {
        "colab": {
          "base_uri": "https://localhost:8080/"
        },
        "id": "tSQ2AkSZXFp9",
        "outputId": "a4c55dd7-bfb1-4da7-e2c4-d9ac7666957d"
      },
      "execution_count": 6,
      "outputs": [
        {
          "output_type": "stream",
          "name": "stdout",
          "text": [
            "I like orange\n"
          ]
        }
      ]
    },
    {
      "cell_type": "markdown",
      "source": [
        "Q6 - Create a list with numbers 1 to 5 and print it."
      ],
      "metadata": {
        "id": "cgo08vfEX_R2"
      }
    },
    {
      "cell_type": "code",
      "source": [
        "num_list = [1, 2, 3, 4, 5]\n",
        "print(num_list)"
      ],
      "metadata": {
        "colab": {
          "base_uri": "https://localhost:8080/"
        },
        "id": "bY2McbNxYBx2",
        "outputId": "fe51e619-bb4d-43e5-e7f9-3689a5f56e98"
      },
      "execution_count": 7,
      "outputs": [
        {
          "output_type": "stream",
          "name": "stdout",
          "text": [
            "[1, 2, 3, 4, 5]\n"
          ]
        }
      ]
    },
    {
      "cell_type": "markdown",
      "source": [
        "Q7 - Append the number 10 to the list [1, 2, 3, 4]."
      ],
      "metadata": {
        "id": "kNFUad9gYHBn"
      }
    },
    {
      "cell_type": "code",
      "source": [
        "num_list=[1,2,3,4]\n",
        "num_list.append(10)\n",
        "print(num_list)\n"
      ],
      "metadata": {
        "colab": {
          "base_uri": "https://localhost:8080/"
        },
        "id": "emayXliAYNm2",
        "outputId": "bc5389a5-3e75-4756-cdf5-e4d7587088d4"
      },
      "execution_count": 8,
      "outputs": [
        {
          "output_type": "stream",
          "name": "stdout",
          "text": [
            "[1, 2, 3, 4, 10]\n"
          ]
        }
      ]
    },
    {
      "cell_type": "markdown",
      "source": [
        "Q8 - Remove the number 3 from the list [1, 2, 3, 4, 5]"
      ],
      "metadata": {
        "id": "Baw3dXXlZS8x"
      }
    },
    {
      "cell_type": "code",
      "source": [
        "list1 = [1,2,3,4,5]\n",
        "list1.remove(3)\n",
        "print(list1)"
      ],
      "metadata": {
        "colab": {
          "base_uri": "https://localhost:8080/"
        },
        "id": "IB5fylcWZX_3",
        "outputId": "2989a58f-6671-4cc4-8634-6d821eb10d8e"
      },
      "execution_count": 9,
      "outputs": [
        {
          "output_type": "stream",
          "name": "stdout",
          "text": [
            "[1, 2, 4, 5]\n"
          ]
        }
      ]
    },
    {
      "cell_type": "markdown",
      "source": [
        "Q10 - Reverse the list [10, 20, 30, 40, 50]"
      ],
      "metadata": {
        "id": "CXfhUMiWZq0f"
      }
    },
    {
      "cell_type": "code",
      "source": [
        "list1 = [10,20,30,40,50]\n",
        "print(list1[::-1])\n"
      ],
      "metadata": {
        "colab": {
          "base_uri": "https://localhost:8080/"
        },
        "id": "D61QdtRraEn3",
        "outputId": "ff3ed0c2-0a7b-45fc-8e93-01d44ad406cf"
      },
      "execution_count": 11,
      "outputs": [
        {
          "output_type": "stream",
          "name": "stdout",
          "text": [
            "[50, 40, 30, 20, 10]\n"
          ]
        }
      ]
    },
    {
      "cell_type": "markdown",
      "source": [
        "Q11 - Create a tuple with the elements 10, 20, 30 and print it."
      ],
      "metadata": {
        "id": "qTLTJDSmaNiH"
      }
    },
    {
      "cell_type": "code",
      "source": [
        "tup1 = (10,20,30)\n",
        "print(tup1)"
      ],
      "metadata": {
        "colab": {
          "base_uri": "https://localhost:8080/"
        },
        "id": "5AQo8i6paRbz",
        "outputId": "5c5ebf91-6bd2-467d-f6a1-81873be6c211"
      },
      "execution_count": 12,
      "outputs": [
        {
          "output_type": "stream",
          "name": "stdout",
          "text": [
            "(10, 20, 30)\n"
          ]
        }
      ]
    },
    {
      "cell_type": "markdown",
      "source": [
        "Q12 - Access the first element of the tuple ('apple', 'banana', 'cherry')."
      ],
      "metadata": {
        "id": "R27v1ytfadRo"
      }
    },
    {
      "cell_type": "code",
      "source": [
        "tup1 = ('apple', 'banana', 'cherry')\n",
        "print(tup1[0])"
      ],
      "metadata": {
        "colab": {
          "base_uri": "https://localhost:8080/"
        },
        "id": "DsLl8wTdafS_",
        "outputId": "56113d84-5104-4d76-d8ff-352b1dd87c92"
      },
      "execution_count": 13,
      "outputs": [
        {
          "output_type": "stream",
          "name": "stdout",
          "text": [
            "apple\n"
          ]
        }
      ]
    },
    {
      "cell_type": "markdown",
      "source": [
        "Q13 - Count how many times the number 2 appears in the tuple (1, 2, 3, 2, 4, 2)"
      ],
      "metadata": {
        "id": "AojLyO6ha2zH"
      }
    },
    {
      "cell_type": "code",
      "source": [
        "tup1 = (1,2,3,2,4,2)\n",
        "print(tup1.count(2))"
      ],
      "metadata": {
        "colab": {
          "base_uri": "https://localhost:8080/"
        },
        "id": "Lt748pTSa8M6",
        "outputId": "fea6055a-5c3a-47c4-d8b0-42c8ef6629f7"
      },
      "execution_count": 14,
      "outputs": [
        {
          "output_type": "stream",
          "name": "stdout",
          "text": [
            "3\n"
          ]
        }
      ]
    },
    {
      "cell_type": "markdown",
      "source": [
        "Q14 - Find the index of the element \"cat\" in the tuple ('dog', 'cat', 'rabbit')"
      ],
      "metadata": {
        "id": "GsqkCsF7bTzH"
      }
    },
    {
      "cell_type": "code",
      "source": [
        "tup1 = ('dog', 'cat', 'rabbit')\n",
        "print(tup1.index('cat'))"
      ],
      "metadata": {
        "colab": {
          "base_uri": "https://localhost:8080/"
        },
        "id": "NAsxm8tZbYTo",
        "outputId": "43a393b2-0d72-468e-e8fb-2e8d571a435a"
      },
      "execution_count": 15,
      "outputs": [
        {
          "output_type": "stream",
          "name": "stdout",
          "text": [
            "1\n"
          ]
        }
      ]
    },
    {
      "cell_type": "markdown",
      "source": [
        "Q15 - Check if the element \"banana\" is in the tuple ('apple', 'orange', 'banana')."
      ],
      "metadata": {
        "id": "U-vhkB_8b5sn"
      }
    },
    {
      "cell_type": "code",
      "source": [
        "tup1 = ('apple', 'orange', 'banana')\n",
        "print('banana' in tup1)"
      ],
      "metadata": {
        "colab": {
          "base_uri": "https://localhost:8080/"
        },
        "id": "GT7W5OQHb-PR",
        "outputId": "0a5cd6cb-145a-4ed7-bef8-548e9caf0b7e"
      },
      "execution_count": 16,
      "outputs": [
        {
          "output_type": "stream",
          "name": "stdout",
          "text": [
            "True\n"
          ]
        }
      ]
    },
    {
      "cell_type": "markdown",
      "source": [
        "Q16 - Create a set with the elements 1, 2, 3, 4, 5 and print it."
      ],
      "metadata": {
        "id": "sm_YaCizcNd1"
      }
    },
    {
      "cell_type": "code",
      "source": [
        "set1 = {1,2,3,4,5}\n",
        "print(set1)"
      ],
      "metadata": {
        "colab": {
          "base_uri": "https://localhost:8080/"
        },
        "id": "TR475rwMcOdB",
        "outputId": "9188b5d5-2173-4dd5-a161-1bd22e475973"
      },
      "execution_count": 17,
      "outputs": [
        {
          "output_type": "stream",
          "name": "stdout",
          "text": [
            "{1, 2, 3, 4, 5}\n"
          ]
        }
      ]
    },
    {
      "cell_type": "markdown",
      "source": [
        "Q17 - Add the element 6 to the set {1, 2, 3, 4}"
      ],
      "metadata": {
        "id": "8gZEFi-5cWXh"
      }
    },
    {
      "cell_type": "code",
      "source": [
        "set1 = {1,2,3,4}\n",
        "set1.add(6)\n",
        "print(set1)"
      ],
      "metadata": {
        "colab": {
          "base_uri": "https://localhost:8080/"
        },
        "id": "94-3OZHgcdyA",
        "outputId": "1d0e2151-1a11-4f37-ee5c-6c80cde69e22"
      },
      "execution_count": 18,
      "outputs": [
        {
          "output_type": "stream",
          "name": "stdout",
          "text": [
            "{1, 2, 3, 4, 6}\n"
          ]
        }
      ]
    }
  ]
}