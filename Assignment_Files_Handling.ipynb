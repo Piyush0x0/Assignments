{
  "nbformat": 4,
  "nbformat_minor": 0,
  "metadata": {
    "colab": {
      "provenance": []
    },
    "kernelspec": {
      "name": "python3",
      "display_name": "Python 3"
    },
    "language_info": {
      "name": "python"
    }
  },
  "cells": [
    {
      "cell_type": "markdown",
      "source": [
        "\n",
        "**1. What is the difference between interpreted and compiled languages?**  \n",
        "- Interpreted languages execute code line-by-line using an interpreter, resulting in slower execution but allowing for immediate feedback (e.g., Python, JavaScript).  \n",
        "- Compiled languages convert code into machine code before execution, resulting in faster runtime but requiring a separate compilation step (e.g., C, C++).\n",
        "\n",
        "\n",
        "**2. What is exception handling in Python?**  \n",
        "Exception handling is a mechanism in Python to manage errors or exceptions that occur during runtime, using `try`, `except`, `else`, and `finally` blocks to handle and recover from errors gracefully.\n",
        "\n",
        "\n",
        "\n",
        "**3. What is the purpose of the `finally` block in exception handling?**  \n",
        "The `finally` block ensures that specific code is executed regardless of whether an exception is raised or not. It's often used for cleanup tasks like closing files or releasing resources.\n",
        "\n",
        "\n",
        "\n",
        "**4. What is logging in Python?**  \n",
        "Logging is a way to track events in a program by recording messages to a log file or console. It helps developers debug and monitor software by providing detailed execution information.\n",
        "\n",
        "\n",
        "**5. What is the significance of the `__del__` method in Python?**  \n",
        "The `__del__` method, known as the destructor, is called when an object is about to be destroyed. It allows cleanup tasks like closing connections or releasing resources.\n",
        "\n",
        "\n",
        "\n",
        "**6. What is the difference between `import` and `from ... import` in Python?**  \n",
        "- `import` imports the entire module (e.g., `import math`).  \n",
        "- `from ... import` imports specific components (e.g., `from math import sqrt`).\n",
        "\n",
        "\n",
        "\n",
        "**7. How can you handle multiple exceptions in Python?**  \n",
        "Multiple exceptions can be handled using:  \n",
        "- Separate `except` blocks for each exception type.  \n",
        "- A single `except` block with a tuple of exceptions.\n",
        "\n",
        "\n",
        "\n",
        "**8. What is the purpose of the `with` statement when handling files in Python?**  \n",
        "The `with` statement simplifies file handling by automatically closing the file after its block of code is executed, even if exceptions occur.\n",
        "\n",
        "\n",
        "\n",
        "**9. What is the difference between multithreading and multiprocessing?**  \n",
        "- **Multithreading**: Multiple threads share the same memory space, useful for I/O-bound tasks.  \n",
        "- **Multiprocessing**: Multiple processes have separate memory, suitable for CPU-bound tasks.\n",
        "\n",
        "\n",
        "\n",
        "**10. What are the advantages of using logging in a program?**  \n",
        "Logging provides:  \n",
        "- Insight into program execution.  \n",
        "- A persistent record of events for debugging and monitoring.  \n",
        "- Different levels of severity (e.g., INFO, ERROR).\n",
        "\n",
        "\n",
        "\n",
        "**11. What is memory management in Python?**  \n",
        "Memory management in Python involves automatically allocating and deallocating memory using its built-in garbage collection system.\n",
        "\n",
        "\n",
        "\n",
        "**12. What are the basic steps involved in exception handling in Python?**  \n",
        "1. Use a `try` block to wrap code that might raise an exception.  \n",
        "2. Handle exceptions in `except` blocks.  \n",
        "3. Optionally include `else` and `finally` blocks.\n",
        "\n",
        "\n",
        "\n",
        "**13. Why is memory management important in Python?**  \n",
        "Efficient memory management prevents memory leaks, ensures optimal performance, and allows programs to handle large datasets effectively.\n",
        "\n",
        "\n",
        "\n",
        "**14. What is the role of `try` and `except` in exception handling?**  \n",
        "- `try`: Wraps code that may raise an exception.  \n",
        "- `except`: Catches and handles the exception, preventing the program from crashing.\n",
        "\n",
        "\n",
        "\n",
        "**15. How does Python's garbage collection system work?**  \n",
        "Python's garbage collector automatically deallocates memory by detecting and reclaiming objects that are no longer in use, using reference counting and cyclic garbage collection.\n",
        "\n",
        "\n",
        "\n",
        "**16. What is the purpose of the `else` block in exception handling?**  \n",
        "The `else` block runs code only if no exceptions occur in the `try` block, keeping the exception-free logic separate.\n",
        "\n",
        "\n",
        "\n",
        "**17. What are the common logging levels in Python?**  \n",
        "- `DEBUG`: Detailed diagnostic information.  \n",
        "- `INFO`: General operational information.  \n",
        "- `WARNING`: Potential problems.  \n",
        "- `ERROR`: Errors that need attention.  \n",
        "- `CRITICAL`: Severe errors causing program termination.\n",
        "\n",
        "\n",
        "\n",
        "**18. What is the difference between `os.fork()` and multiprocessing in Python?**  \n",
        "- `os.fork()`: Creates a child process, available only on Unix-like systems.  \n",
        "- Multiprocessing: A cross-platform module for creating processes, offering better abstractions.\n",
        "\n",
        "\n",
        "**19. What is the importance of closing a file in Python?**  \n",
        "Closing a file releases system resources and ensures data is written to disk, preventing data corruption or loss.\n",
        "\n",
        "\n",
        "\n",
        "**20. What is the difference between `file.read()` and `file.readline()` in Python?**  \n",
        "- `file.read()`: Reads the entire file or a specified number of characters.  \n",
        "- `file.readline()`: Reads a single line from the file.\n",
        "\n",
        "\n",
        "\n",
        "**21. What is the logging module in Python used for?**  \n",
        "The logging module is used to record events and messages, making debugging and monitoring easier by providing configurable log levels.\n",
        "\n",
        "\n",
        "\n",
        "**22. What is the `os` module in Python used for in file handling?**  \n",
        "The `os` module provides functions for interacting with the operating system, such as file manipulation, directory traversal, and environment variable access.\n",
        "\n",
        "\n",
        "\n",
        "**23. What are the challenges associated with memory management in Python?**  \n",
        "Challenges include:  \n",
        "- Managing circular references.  \n",
        "- Handling memory leaks due to external libraries.  \n",
        "- Efficient memory allocation for large objects.\n",
        "\n",
        "\n",
        "\n",
        "**24. How do you raise an exception manually in Python?**  \n",
        "Use the `raise` statement, e.g., `raise ValueError(\"Invalid value\")`.\n",
        "\n",
        "\n",
        "\n",
        "**25. Why is it important to use multithreading in certain applications?**  \n",
        "Multithreading improves performance in I/O-bound applications by allowing concurrent execution, leading to better resource utilization.  "
      ],
      "metadata": {
        "id": "sB4_Za52jU-o"
      }
    },
    {
      "cell_type": "markdown",
      "source": [
        "# **PRACTICAL QUESTIONS**"
      ],
      "metadata": {
        "id": "FFbX0fYhj29i"
      }
    },
    {
      "cell_type": "markdown",
      "source": [
        "1. How can you open a file for writing in Python and write a string to it?"
      ],
      "metadata": {
        "id": "sWPaJz20kE8h"
      }
    },
    {
      "cell_type": "code",
      "source": [
        "with open(\"example.txt\", \"w\") as file:\n",
        "    file.write(\"This is a sample string.\")\n"
      ],
      "metadata": {
        "id": "xINy38aGkQ7D"
      },
      "execution_count": null,
      "outputs": []
    },
    {
      "cell_type": "markdown",
      "source": [
        "2. Write a Python program to read the contents of a file and print each line."
      ],
      "metadata": {
        "id": "jK67JpfjkT8g"
      }
    },
    {
      "cell_type": "code",
      "execution_count": null,
      "metadata": {
        "id": "Xhr2cG4Fgmpm"
      },
      "outputs": [],
      "source": [
        "with open(\"example.txt\", \"r\") as file:\n",
        "    for line in file:\n",
        "        print(line.strip())\n"
      ]
    },
    {
      "cell_type": "markdown",
      "source": [
        "3. How would you handle a case where the file doesn't exist while trying to open it for reading?"
      ],
      "metadata": {
        "id": "IwonHpqFkZyB"
      }
    },
    {
      "cell_type": "code",
      "source": [
        "try:\n",
        "    with open(\"nonexistent.txt\", \"r\") as file:\n",
        "        print(file.read())\n",
        "except FileNotFoundError:\n",
        "    print(\"The file does not exist.\")\n"
      ],
      "metadata": {
        "colab": {
          "base_uri": "https://localhost:8080/"
        },
        "id": "5UVdGiCCkcvy",
        "outputId": "8c2d8f8c-1fe1-498c-b3c3-865f0d488c01"
      },
      "execution_count": 3,
      "outputs": [
        {
          "output_type": "stream",
          "name": "stdout",
          "text": [
            "The file does not exist.\n"
          ]
        }
      ]
    },
    {
      "cell_type": "markdown",
      "source": [
        "4. Write a Python script that reads from one file and writes its content to another file."
      ],
      "metadata": {
        "id": "xYT8CPoukvdA"
      }
    },
    {
      "cell_type": "code",
      "source": [
        "with open(\"source.txt\", \"r\") as src:\n",
        "    content = src.read()\n",
        "with open(\"destination.txt\", \"w\") as dest:\n",
        "    dest.write(content)\n"
      ],
      "metadata": {
        "id": "qujpMDWAkwTg"
      },
      "execution_count": null,
      "outputs": []
    },
    {
      "cell_type": "markdown",
      "source": [
        "5. How would you catch and handle a division by zero error in Python?"
      ],
      "metadata": {
        "id": "MhqabIcplToQ"
      }
    },
    {
      "cell_type": "code",
      "source": [
        "try:\n",
        "    result = 10 / 0\n",
        "except ZeroDivisionError:\n",
        "    print(\"Division by zero is not allowed.\")\n"
      ],
      "metadata": {
        "id": "BIxN4aLslVm4"
      },
      "execution_count": null,
      "outputs": []
    },
    {
      "cell_type": "markdown",
      "source": [
        "6. Write a Python program that logs an error message to a log file when a division by zero exception occurs."
      ],
      "metadata": {
        "id": "OPlEqjvIlfKI"
      }
    },
    {
      "cell_type": "code",
      "source": [
        "import logging\n",
        "\n",
        "logging.basicConfig(filename=\"error.log\", level=logging.ERROR)\n",
        "\n",
        "try:\n",
        "    result = 10 / 0\n",
        "except ZeroDivisionError as e:\n",
        "    logging.error(\"Division by zero occurred: %s\", e)\n"
      ],
      "metadata": {
        "id": "lKsqw6WqlieY"
      },
      "execution_count": null,
      "outputs": []
    },
    {
      "cell_type": "markdown",
      "source": [
        "7. How do you log information at different levels (INFO, ERROR, WARNING) in Python using the logging module?"
      ],
      "metadata": {
        "id": "WM4dJm95loGx"
      }
    },
    {
      "cell_type": "code",
      "source": [
        "import logging\n",
        "\n",
        "logging.basicConfig(level=logging.DEBUG)\n",
        "\n",
        "logging.info(\"This is an info message.\")\n",
        "logging.warning(\"This is a warning message.\")\n",
        "logging.error(\"This is an error message.\")\n",
        "\n"
      ],
      "metadata": {
        "id": "07MzsdI9lrFA"
      },
      "execution_count": null,
      "outputs": []
    },
    {
      "cell_type": "markdown",
      "source": [
        "8. Write a program to handle a file opening error using exception handling."
      ],
      "metadata": {
        "id": "YBvFlWvamNZY"
      }
    },
    {
      "cell_type": "code",
      "source": [
        "try:\n",
        "    with open(\"example.txt\", \"r\") as file:\n",
        "        print(file.read())\n",
        "except IOError:\n",
        "    print(\"Error occurred while opening the file.\")\n"
      ],
      "metadata": {
        "id": "aiRMVsoUmQh4"
      },
      "execution_count": null,
      "outputs": []
    },
    {
      "cell_type": "markdown",
      "source": [
        "9. How can you read a file line by line and store its content in a list in Python?"
      ],
      "metadata": {
        "id": "cIf-AfBZmckR"
      }
    },
    {
      "cell_type": "code",
      "source": [
        "with open(\"example.txt\", \"r\") as file:\n",
        "    lines = file.readlines()\n",
        "print(lines)\n"
      ],
      "metadata": {
        "id": "pJdGsVynmcSR"
      },
      "execution_count": null,
      "outputs": []
    },
    {
      "cell_type": "markdown",
      "source": [
        "10. How can you append data to an existing file in Python?"
      ],
      "metadata": {
        "id": "8fwrbrwEmfDi"
      }
    },
    {
      "cell_type": "code",
      "source": [
        "with open(\"example.txt\", \"a\") as file:\n",
        "    file.write(\"\\nAdditional content.\")\n"
      ],
      "metadata": {
        "id": "jDAy4zJzmhoA"
      },
      "execution_count": null,
      "outputs": []
    },
    {
      "cell_type": "markdown",
      "source": [
        "11. Write a Python program that uses a try-except block to handle an error when attempting to access a dictionary key that doesn't exist."
      ],
      "metadata": {
        "id": "V0HgEPbtmlkh"
      }
    },
    {
      "cell_type": "code",
      "source": [
        "my_dict = {\"key1\": \"value1\"}\n",
        "\n",
        "try:\n",
        "    print(my_dict[\"key2\"])\n",
        "except KeyError:\n",
        "    print(\"Key does not exist.\")\n"
      ],
      "metadata": {
        "id": "DclU6AvzmpY4"
      },
      "execution_count": null,
      "outputs": []
    },
    {
      "cell_type": "markdown",
      "source": [
        "12. Write a program that demonstrates using multiple except blocks to handle different types of exceptions."
      ],
      "metadata": {
        "id": "sDEbrIuvmsnh"
      }
    },
    {
      "cell_type": "code",
      "source": [
        "try:\n",
        "    result = 10 / 0\n",
        "except ZeroDivisionError:\n",
        "    print(\"Division by zero error.\")\n",
        "except KeyError:\n",
        "    print(\"Key error occurred.\")\n",
        "except Exception as e:\n",
        "    print(f\"An unexpected error occurred: {e}\")\n"
      ],
      "metadata": {
        "id": "o9P3fFsMmv6Y"
      },
      "execution_count": null,
      "outputs": []
    },
    {
      "cell_type": "markdown",
      "source": [
        "13. How would you check if a file exists before attempting to read it in Python?"
      ],
      "metadata": {
        "id": "Oqb6YDuim3hJ"
      }
    },
    {
      "cell_type": "code",
      "source": [
        "import os\n",
        "\n",
        "if os.path.exists(\"example.txt\"):\n",
        "    with open(\"example.txt\", \"r\") as file:\n",
        "        print(file.read())\n",
        "else:\n",
        "    print(\"The file does not exist.\")\n"
      ],
      "metadata": {
        "id": "Z97jDwdXm6P4"
      },
      "execution_count": null,
      "outputs": []
    },
    {
      "cell_type": "markdown",
      "source": [
        "14. Write a program that uses the logging module to log both informational and error messages."
      ],
      "metadata": {
        "id": "S5KzPkF1m8eo"
      }
    },
    {
      "cell_type": "code",
      "source": [
        "import logging\n",
        "\n",
        "logging.basicConfig(filename=\"app.log\", level=logging.DEBUG)\n",
        "\n",
        "logging.info(\"This is an informational message.\")\n",
        "try:\n",
        "    result = 10 / 0\n",
        "except ZeroDivisionError as e:\n",
        "    logging.error(\"An error occurred: %s\", e)\n"
      ],
      "metadata": {
        "id": "2LYli_FCm_6y"
      },
      "execution_count": null,
      "outputs": []
    },
    {
      "cell_type": "markdown",
      "source": [
        "15. Write a Python program that prints the content of a file and handles the case when the file is empty."
      ],
      "metadata": {
        "id": "EjOBw1LmnBYA"
      }
    },
    {
      "cell_type": "code",
      "source": [
        "with open(\"example.txt\", \"r\") as file:\n",
        "    content = file.read()\n",
        "    if content:\n",
        "        print(content)\n",
        "    else:\n",
        "        print(\"The file is empty.\")\n"
      ],
      "metadata": {
        "id": "zCgO0jG5nEIi"
      },
      "execution_count": null,
      "outputs": []
    },
    {
      "cell_type": "markdown",
      "source": [
        "16. Demonstrate how to use memory profiling to check the memory usage of a small program."
      ],
      "metadata": {
        "id": "xP-VXZRFnFQo"
      }
    },
    {
      "cell_type": "code",
      "source": [
        "from memory_profiler import profile\n",
        "\n",
        "@profile\n",
        "def my_function():\n",
        "    x = [i for i in range(10000)]\n",
        "    return x\n",
        "\n",
        "my_function()\n"
      ],
      "metadata": {
        "id": "0YcKDuRcnKhx"
      },
      "execution_count": null,
      "outputs": []
    },
    {
      "cell_type": "code",
      "source": [
        "17. Write a Python program to create and write a list of numbers to a file, one number per line."
      ],
      "metadata": {
        "id": "rhDZoRrcnfNj"
      },
      "execution_count": null,
      "outputs": []
    },
    {
      "cell_type": "code",
      "source": [
        "numbers = [1, 2, 3, 4, 5]\n",
        "\n",
        "with open(\"numbers.txt\", \"w\") as file:\n",
        "    for number in numbers:\n",
        "        file.write(f\"{number}\\n\")\n"
      ],
      "metadata": {
        "id": "hk86e2kCoFUi"
      },
      "execution_count": 6,
      "outputs": []
    },
    {
      "cell_type": "markdown",
      "source": [
        "18. How would you implement a basic logging setup that logs to a file with rotation after 1MB?"
      ],
      "metadata": {
        "id": "mK2r3XVjoImh"
      }
    },
    {
      "cell_type": "code",
      "source": [
        "import logging\n",
        "from logging.handlers import RotatingFileHandler\n",
        "\n",
        "handler = RotatingFileHandler(\"app.log\", maxBytes=1_000_000, backupCount=5)\n",
        "logging.basicConfig(handlers=[handler], level=logging.DEBUG)\n",
        "\n",
        "logging.info(\"This is a log message.\")\n"
      ],
      "metadata": {
        "id": "x6P4TS8VoOiK"
      },
      "execution_count": 7,
      "outputs": []
    },
    {
      "cell_type": "code",
      "source": [
        "19. Write a program that handles both IndexError and KeyError using a try-except block."
      ],
      "metadata": {
        "id": "MHCFFGUCoRah"
      },
      "execution_count": null,
      "outputs": []
    },
    {
      "cell_type": "code",
      "source": [
        "try:\n",
        "    my_list = [1, 2, 3]\n",
        "    print(my_list[5])\n",
        "except IndexError:\n",
        "    print(\"Index out of range.\")\n",
        "\n",
        "try:\n",
        "    my_dict = {\"key1\": \"value1\"}\n",
        "    print(my_dict[\"key2\"])\n",
        "except KeyError:\n",
        "    print(\"Key does not exist.\")\n"
      ],
      "metadata": {
        "id": "nlhe_LPEoVHl"
      },
      "execution_count": null,
      "outputs": []
    },
    {
      "cell_type": "markdown",
      "source": [
        "20. How would you open a file and read its contents using a context manager in Python?"
      ],
      "metadata": {
        "id": "174w30FCoXdx"
      }
    },
    {
      "cell_type": "code",
      "source": [
        "with open(\"example.txt\", \"r\") as file:\n",
        "    print(file.read())\n"
      ],
      "metadata": {
        "id": "uwjIxRuDogXx"
      },
      "execution_count": null,
      "outputs": []
    },
    {
      "cell_type": "markdown",
      "source": [
        "21. Write a Python program that reads a file and prints the number of occurrences of a specific word."
      ],
      "metadata": {
        "id": "xRt42AGhoupg"
      }
    },
    {
      "cell_type": "code",
      "source": [
        "word_to_count = \"example\"\n",
        "\n",
        "with open(\"example.txt\", \"r\") as file:\n",
        "    content = file.read()\n",
        "\n",
        "count = content.count(word_to_count)\n",
        "print(f\"The word '{word_to_count}' occurs {count} times.\")\n"
      ],
      "metadata": {
        "id": "1MipU0MJowBx"
      },
      "execution_count": null,
      "outputs": []
    },
    {
      "cell_type": "markdown",
      "source": [
        "22. How can you check if a file is empty before attempting to read its contents?"
      ],
      "metadata": {
        "id": "0fbHUwB3oygA"
      }
    },
    {
      "cell_type": "code",
      "source": [
        "import os\n",
        "\n",
        "if os.path.getsize(\"example.txt\") == 0:\n",
        "    print(\"The file is empty.\")\n",
        "else:\n",
        "    with open(\"example.txt\", \"r\") as file:\n",
        "        print(file.read())\n"
      ],
      "metadata": {
        "id": "AFs2setoozQQ"
      },
      "execution_count": null,
      "outputs": []
    },
    {
      "cell_type": "markdown",
      "source": [
        "23. Write a Python program that writes to a log file when an error occurs during file handling."
      ],
      "metadata": {
        "id": "jDBA-0Jjo2CR"
      }
    },
    {
      "cell_type": "code",
      "source": [
        "import logging\n",
        "\n",
        "logging.basicConfig(filename=\"file_errors.log\", level=logging.ERROR)\n",
        "\n",
        "try:\n",
        "    with open(\"nonexistent.txt\", \"r\") as file:\n",
        "        print(file.read())\n",
        "except FileNotFoundError as e:\n",
        "    logging.error(\"File not found: %s\", e)\n"
      ],
      "metadata": {
        "id": "wlFF7zsbo23g"
      },
      "execution_count": null,
      "outputs": []
    }
  ]
}