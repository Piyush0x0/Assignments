{
  "nbformat": 4,
  "nbformat_minor": 0,
  "metadata": {
    "colab": {
      "provenance": []
    },
    "kernelspec": {
      "name": "python3",
      "display_name": "Python 3"
    },
    "language_info": {
      "name": "python"
    }
  },
  "cells": [
    {
      "cell_type": "markdown",
      "source": [
        "\n",
        "#### **1. What is NumPy, and why is it widely used in Python?**  \n",
        "NumPy (Numerical Python) is a powerful Python library used for numerical and scientific computing. It provides support for large multidimensional arrays and matrices, along with a collection of mathematical functions to operate on these data structures efficiently. NumPy is widely used due to its speed (achieved through its underlying C implementation), support for broadcasting, vectorized operations, and its ability to interface with other libraries like SciPy, Pandas, and machine learning tools.\n",
        "\n",
        "\n",
        "\n",
        "\n",
        "#### **2. How does broadcasting work in NumPy?**  \n",
        "Broadcasting allows NumPy to perform operations on arrays of different shapes by \"stretching\" the smaller array along dimensions to match the larger array's shape without making additional copies of data. For example, adding a scalar to a 2D array involves broadcasting the scalar value across all elements of the array.\n",
        "\n",
        "\n",
        "\n",
        "#### **3. What is a Pandas DataFrame?**  \n",
        "A Pandas DataFrame is a two-dimensional, size-mutable, and heterogeneous tabular data structure with labeled axes (rows and columns). It is similar to a spreadsheet or SQL table and is one of the core data structures in Pandas for data manipulation and analysis.\n",
        "\n",
        "\n",
        "\n",
        "#### **4. Explain the use of the groupby() method in Pandas.**  \n",
        "The `groupby()` method is used for splitting data into groups based on some criteria, applying a function to each group independently, and combining the results. It is commonly used for aggregation, transformation, and filtration of data.\n",
        "\n",
        "\n",
        "\n",
        "#### **5. Why is Seaborn preferred for statistical visualizations?**  \n",
        "Seaborn is preferred for statistical visualizations because it provides a high-level interface for drawing attractive and informative statistical graphics. It integrates closely with Pandas and offers built-in themes, color palettes, and functions for common statistical plots like heatmaps, boxplots, violin plots, and more.\n",
        "\n",
        "\n",
        "\n",
        "#### **6. What are the differences between NumPy arrays and Python lists?**  \n",
        " **Speed:** NumPy arrays are faster due to their optimized C implementation.\n",
        "\n",
        " **Data Types:** NumPy arrays have a fixed data type, while Python lists can contain elements of different types.\n",
        "\n",
        " **Memory Efficiency:** NumPy arrays use less memory compared to lists.\n",
        "\n",
        " **Functionalities:** NumPy arrays support advanced mathematical and matrix operations, which are not available for Python lists.\n",
        "\n",
        "\n",
        "\n",
        "#### **7. What is a heatmap, and when should it be used?**  \n",
        "A heatmap is a graphical representation of data where individual values are represented using a color scale. It is often used to visualize correlations, frequencies, or densities in datasets.\n",
        "\n",
        "\n",
        "\n",
        "#### **8. What does the term “vectorized operation” mean in NumPy?**  \n",
        "Vectorized operations in NumPy refer to performing element-wise computations on arrays without using explicit loops. These operations are faster and more efficient because they leverage NumPy's underlying C implementation.\n",
        "\n",
        "\n",
        "\n",
        "#### **9. How does Matplotlib differ from Plotly?**  \n",
        " **Matplotlib:** A static plotting library that is versatile and highly customizable but lacks interactivity by default.\n",
        "\n",
        " **Plotly:** A library designed for creating interactive, web-based plots with ease. It includes built-in support for zooming, panning, and exporting plots.\n",
        "\n",
        "\n",
        "\n",
        "#### **10. What is the significance of hierarchical indexing in Pandas?**  \n",
        "Hierarchical indexing allows Pandas to handle data with multiple levels of indexing (e.g., multi-indexing). It is particularly useful for working with complex datasets like time series, enabling multi-dimensional data representation within a 2D DataFrame.\n",
        "\n",
        "\n",
        "\n",
        "#### **11. What is the role of Seaborn’s pairplot() function?**  \n",
        "The `pairplot()` function in Seaborn generates a grid of scatter plots for pairwise relationships in a dataset, along with histograms for individual variable distributions. It is ideal for visualizing patterns and correlations in multi-dimensional data.\n",
        "\n",
        "\n",
        "\n",
        "#### **12. What is the purpose of the describe() function in Pandas?**  \n",
        "The `describe()` function provides a statistical summary of numerical columns in a DataFrame, including count, mean, standard deviation, minimum, maximum, and quartiles.\n",
        "\n",
        "\n",
        "\n",
        "#### **13. Why is handling missing data important in Pandas?**  \n",
        "Handling missing data is essential to ensure data integrity and avoid biased or inaccurate analyses. Pandas provides methods to detect, fill, or drop missing values efficiently.\n",
        "\n",
        "\n",
        "\n",
        "#### **14. What are the benefits of using Plotly for data visualization?**  \n",
        "Plotly is highly interactive, supports 3D visualizations, and integrates well with web-based frameworks. It offers pre-built themes and interactive features like tooltips, zooming, and exporting visualizations.\n",
        "\n",
        "\n",
        "\n",
        "#### **15. How does NumPy handle multidimensional arrays?**  \n",
        "NumPy supports n-dimensional arrays, allowing for efficient storage and manipulation of multi-dimensional data. Operations like slicing, broadcasting, and reshaping work seamlessly with these arrays.\n",
        "\n",
        "\n",
        "\n",
        "#### **16. What is the role of Bokeh in data visualization?**  \n",
        "Bokeh is a Python library for creating interactive visualizations for web applications. It supports high-performance rendering, interactivity, and integration with modern web frameworks.\n",
        "\n",
        "\n",
        "\n",
        "#### **17. Explain the difference between apply() and map() in Pandas.**  \n",
        " **apply():** Used to apply a function along an axis (rows or columns) of a DataFrame.  \n",
        "\n",
        " **map():** Used for element-wise transformations on a Pandas Series.\n",
        "\n",
        "\n",
        "\n",
        "#### **18. What are some advanced features of NumPy?**  \n",
        "- Broadcasting  \n",
        "- Vectorized operations  \n",
        "- Masked arrays  \n",
        "- Linear algebra functions (e.g., `linalg`)  \n",
        "- Random number generation  \n",
        "\n",
        "\n",
        "\n",
        "#### **19. How does Pandas simplify time series analysis?**  \n",
        "Pandas offers powerful time series tools like date range generation, resampling, rolling, and shifting. It also provides support for handling datetime objects, time zones, and time-based indexing.\n",
        "\n",
        "\n",
        "\n",
        "#### **20. What is the role of a pivot table in Pandas?**  \n",
        "A pivot table is used to summarize, aggregate, and reshape data within a DataFrame. It allows for generating reports by grouping data along rows and columns.\n",
        "\n",
        "\n",
        "\n",
        "#### **21. Why is NumPy’s array slicing faster than Python’s list slicing?**  \n",
        "NumPy arrays are stored in contiguous memory blocks and leverage optimized low-level operations, making slicing operations significantly faster compared to Python lists.\n",
        "\n",
        "\n",
        "\n",
        "#### **22. What are some common use cases for Seaborn?**  \n",
        "- Visualizing statistical data  \n",
        "- Correlation analysis (e.g., heatmaps)  \n",
        "- Comparing distributions (e.g., boxplots, violin plots)  \n",
        "- Pairwise relationships (e.g., pairplots)  "
      ],
      "metadata": {
        "id": "GdG2oCyP9BHU"
      }
    },
    {
      "cell_type": "markdown",
      "source": [
        "# ***PRACTICAL QUESTIONS***"
      ],
      "metadata": {
        "id": "zczNEBhx-IXa"
      }
    },
    {
      "cell_type": "markdown",
      "source": [
        "Q1. How do you create a 2D NumPy array and calculate the sum of each row?"
      ],
      "metadata": {
        "id": "4IYrbWeV-MvB"
      }
    },
    {
      "cell_type": "code",
      "source": [
        "import numpy as np\n",
        "\n",
        "# Create a 2D NumPy array\n",
        "array_2d = np.array([[1, 2, 3], [4, 5, 6], [7, 8, 9]])\n",
        "\n",
        "# Calculate the sum of each row\n",
        "row_sums = np.sum(array_2d, axis=1)\n",
        "print(\"Row sums:\", row_sums)\n"
      ],
      "metadata": {
        "id": "P4Ii_284-Rgq"
      },
      "execution_count": null,
      "outputs": []
    },
    {
      "cell_type": "markdown",
      "source": [
        "Q2. Write a Pandas script to find the mean of a specific column in a DataFrame."
      ],
      "metadata": {
        "id": "zU0A3jhD-2w5"
      }
    },
    {
      "cell_type": "code",
      "execution_count": null,
      "metadata": {
        "id": "VGYjhDyD81bz"
      },
      "outputs": [],
      "source": [
        "import pandas as pd\n",
        "\n",
        "# Create a DataFrame\n",
        "data = {'Column1': [10, 20, 30, 40], 'Column2': [15, 25, 35, 45]}\n",
        "df = pd.DataFrame(data)\n",
        "\n",
        "# Find the mean of a specific column\n",
        "column_mean = df['Column1'].mean()\n",
        "print(\"Mean of Column1:\", column_mean)\n"
      ]
    },
    {
      "cell_type": "markdown",
      "source": [
        "Q3. Create a scatter plot using Matplotlib."
      ],
      "metadata": {
        "id": "mjeHVUu0_BQB"
      }
    },
    {
      "cell_type": "code",
      "source": [
        "import matplotlib.pyplot as plt\n",
        "\n",
        "# Sample data\n",
        "x = [1, 2, 3, 4, 5]\n",
        "y = [2, 4, 1, 8, 7]\n",
        "\n",
        "# Create a scatter plot\n",
        "plt.scatter(x, y, color='blue')\n",
        "plt.title(\"Scatter Plot\")\n",
        "plt.xlabel(\"X-axis\")\n",
        "plt.ylabel(\"Y-axis\")\n",
        "plt.show()\n"
      ],
      "metadata": {
        "id": "TYW4j4TJ_EMB"
      },
      "execution_count": null,
      "outputs": []
    },
    {
      "cell_type": "markdown",
      "source": [
        "Q4. How do you calculate the correlation matrix using Seaborn and visualize it with a heatmap?"
      ],
      "metadata": {
        "id": "CfBA8SLw_Guh"
      }
    },
    {
      "cell_type": "code",
      "source": [
        "import seaborn as sns\n",
        "import pandas as pd\n",
        "import numpy as np\n",
        "\n",
        "# Create a DataFrame\n",
        "data = {'A': [1, 2, 3, 4], 'B': [5, 6, 7, 8], 'C': [9, 10, 11, 12]}\n",
        "df = pd.DataFrame(data)\n",
        "\n",
        "# Calculate the correlation matrix\n",
        "correlation_matrix = df.corr()\n",
        "\n",
        "# Visualize it with a heatmap\n",
        "sns.heatmap(correlation_matrix, annot=True, cmap='coolwarm')\n",
        "plt.title(\"Correlation Matrix Heatmap\")\n",
        "plt.show()\n"
      ],
      "metadata": {
        "id": "Rfs6JDrj_Jdx"
      },
      "execution_count": null,
      "outputs": []
    },
    {
      "cell_type": "markdown",
      "source": [
        "Q5. Generate a bar plot using Plotly."
      ],
      "metadata": {
        "id": "SR3A-v5a_NhJ"
      }
    },
    {
      "cell_type": "code",
      "source": [
        "import plotly.express as px\n",
        "\n",
        "# Sample data\n",
        "data = {'Categories': ['A', 'B', 'C'], 'Values': [10, 20, 30]}\n",
        "fig = px.bar(data, x='Categories', y='Values', title=\"Bar Plot\")\n",
        "fig.show()\n"
      ],
      "metadata": {
        "id": "YepQTIvd_P_R"
      },
      "execution_count": null,
      "outputs": []
    },
    {
      "cell_type": "markdown",
      "source": [
        "Q6. Create a DataFrame and add a new column based on an existing column."
      ],
      "metadata": {
        "id": "EKEdrSf7_TSJ"
      }
    },
    {
      "cell_type": "code",
      "source": [
        "import pandas as pd\n",
        "\n",
        "# Create a DataFrame\n",
        "df = pd.DataFrame({'Numbers': [1, 2, 3, 4]})\n",
        "\n",
        "# Add a new column based on an existing column\n",
        "df['Squared'] = df['Numbers'] ** 2\n",
        "print(df)\n"
      ],
      "metadata": {
        "id": "a_0HscdN_Y6L"
      },
      "execution_count": null,
      "outputs": []
    },
    {
      "cell_type": "markdown",
      "source": [
        "Q7. Write a program to perform element-wise multiplication of two NumPy arrays."
      ],
      "metadata": {
        "id": "pDPuKMDc_uya"
      }
    },
    {
      "cell_type": "code",
      "source": [
        "import numpy as np\n",
        "\n",
        "# Create two NumPy arrays\n",
        "array1 = np.array([1, 2, 3])\n",
        "array2 = np.array([4, 5, 6])\n",
        "\n",
        "# Perform element-wise multiplication\n",
        "result = array1 * array2\n",
        "print(\"Element-wise multiplication:\", result)\n"
      ],
      "metadata": {
        "id": "qt_nc_GX_zyR"
      },
      "execution_count": null,
      "outputs": []
    },
    {
      "cell_type": "markdown",
      "source": [
        "Q8. Create a line plot with multiple lines using Matplotlib."
      ],
      "metadata": {
        "id": "nM_Np0CsBpnR"
      }
    },
    {
      "cell_type": "code",
      "source": [
        "import matplotlib.pyplot as plt\n",
        "\n",
        "# Sample data\n",
        "x = [1, 2, 3, 4, 5]\n",
        "y1 = [2, 4, 6, 8, 10]\n",
        "y2 = [1, 3, 5, 7, 9]\n",
        "\n",
        "# Create a line plot\n",
        "plt.plot(x, y1, label=\"Line 1\", color=\"blue\")\n",
        "plt.plot(x, y2, label=\"Line 2\", color=\"red\")\n",
        "plt.title(\"Line Plot with Multiple Lines\")\n",
        "plt.xlabel(\"X-axis\")\n",
        "plt.ylabel(\"Y-axis\")\n",
        "plt.legend()\n",
        "plt.show()\n"
      ],
      "metadata": {
        "id": "nrvHlQ_XBt96"
      },
      "execution_count": null,
      "outputs": []
    },
    {
      "cell_type": "markdown",
      "source": [
        "Q9. Generate a Pandas DataFrame and filter rows where a column value is greater than a threshold."
      ],
      "metadata": {
        "id": "w_yIphAtBz8B"
      }
    },
    {
      "cell_type": "code",
      "source": [
        "import pandas as pd\n",
        "\n",
        "# Create a DataFrame\n",
        "df = pd.DataFrame({'Values': [10, 20, 30, 40, 50]})\n",
        "\n",
        "# Filter rows where the column value is greater than 25\n",
        "filtered_df = df[df['Values'] > 25]\n",
        "print(filtered_df)\n"
      ],
      "metadata": {
        "id": "1SP8KmTQB3NB"
      },
      "execution_count": null,
      "outputs": []
    },
    {
      "cell_type": "markdown",
      "source": [
        "Q10. Create a histogram using Seaborn to visualize a distribution."
      ],
      "metadata": {
        "id": "lt7GfAQCB8Es"
      }
    },
    {
      "cell_type": "code",
      "source": [
        "import seaborn as sns\n",
        "import matplotlib.pyplot as plt\n",
        "\n",
        "# Sample data\n",
        "data = [1, 2, 2, 3, 3, 3, 4, 4, 4, 4]\n",
        "\n",
        "# Create a histogram\n",
        "sns.histplot(data, bins=5, kde=True)\n",
        "plt.title(\"Histogram\")\n",
        "plt.show()\n"
      ],
      "metadata": {
        "id": "44ZVfXQhB88B"
      },
      "execution_count": null,
      "outputs": []
    },
    {
      "cell_type": "markdown",
      "source": [
        "Q11. Perform matrix multiplication using NumPy."
      ],
      "metadata": {
        "id": "zlX3i0erB_MB"
      }
    },
    {
      "cell_type": "code",
      "source": [
        "import numpy as np\n",
        "\n",
        "# Define two matrices\n",
        "matrix1 = np.array([[1, 2], [3, 4]])\n",
        "matrix2 = np.array([[5, 6], [7, 8]])\n",
        "\n",
        "# Perform matrix multiplication\n",
        "result = np.dot(matrix1, matrix2)\n",
        "print(\"Matrix Multiplication Result:\\n\", result)\n"
      ],
      "metadata": {
        "id": "4Vl2Qx8FCHls"
      },
      "execution_count": null,
      "outputs": []
    },
    {
      "cell_type": "markdown",
      "source": [
        "Q12. Use Pandas to load a CSV file and display its first 5 rows."
      ],
      "metadata": {
        "id": "z8Plrlf1COwp"
      }
    },
    {
      "cell_type": "code",
      "source": [
        "import pandas as pd\n",
        "\n",
        "# Load a CSV file\n",
        "df = pd.read_csv('sample.csv')\n",
        "\n",
        "# Display the first 5 rows\n",
        "print(df.head())\n"
      ],
      "metadata": {
        "id": "VyEWb32DCP3T"
      },
      "execution_count": null,
      "outputs": []
    },
    {
      "cell_type": "markdown",
      "source": [
        "Q13. Create a 3D scatter plot using Plotly."
      ],
      "metadata": {
        "id": "nJQ8UataCTIr"
      }
    },
    {
      "cell_type": "code",
      "source": [
        "import plotly.express as px\n",
        "\n",
        "# Sample data\n",
        "data = {'X': [1, 2, 3], 'Y': [4, 5, 6], 'Z': [7, 8, 9]}\n",
        "fig = px.scatter_3d(data, x='X', y='Y', z='Z', title=\"3D Scatter Plot\")\n",
        "fig.show()\n"
      ],
      "metadata": {
        "id": "7pxMdMpNCYNR"
      },
      "execution_count": null,
      "outputs": []
    }
  ]
}